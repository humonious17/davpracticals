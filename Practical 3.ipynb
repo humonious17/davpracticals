{
 "cells": [
  {
   "cell_type": "markdown",
   "metadata": {},
   "source": [
    "3. Create a dataframe having at least 3 columns and 50 rows to store numeric data generated using a random\n",
    "function. Replace 10% of the values by null values whose index positions are generated using random function.\n",
    "Do the following:\n",
    "\n",
    "a. Identify and count missing values in a dataframe.\n",
    "\n",
    "b. Drop the column having more than 5 null values.\n",
    "\n",
    "c. Identify the row label having maximum of the sum of all values in a row and drop that row.\n",
    "\n",
    "d. Sort the dataframe on the basis of the first column.\n",
    "\n",
    "e. Remove all duplicates from the first column.\n",
    "\n",
    "f. Find the correlation between first and second column and covariance between second and third\n",
    "column.\n",
    "\n",
    "g. Detect the outliers and remove the rows having outliers.\n",
    "\n",
    "h. Discretize second column and create 5 bins"
   ]
  },
  {
   "cell_type": "code",
   "execution_count": 2,
   "metadata": {},
   "outputs": [],
   "source": [
    "import pandas as pd\n",
    "import numpy as np\n",
    "\n",
    "# Step 1: Create a dataframe with random numeric data\n",
    "np.random.seed(42)\n",
    "data = {'Column1': np.random.rand(50),\n",
    "        'Column2': np.random.rand(50),\n",
    "        'Column3': np.random.rand(50)}\n",
    "df = pd.DataFrame(data)"
   ]
  },
  {
   "cell_type": "code",
   "execution_count": 3,
   "metadata": {},
   "outputs": [],
   "source": [
    "# Step 2: Introduce null values\n",
    "null_indices = np.random.choice(df.index, size=int(0.1 * df.size), replace=False)\n",
    "df.iloc[null_indices] = np.nan\n"
   ]
  },
  {
   "cell_type": "code",
   "execution_count": 4,
   "metadata": {},
   "outputs": [],
   "source": [
    "# Step 3a: Identify and count missing values\n",
    "missing_values_count = df.isnull().sum()"
   ]
  },
  {
   "cell_type": "code",
   "execution_count": 5,
   "metadata": {},
   "outputs": [],
   "source": [
    "# Step 3b: Drop columns with more than 5 null values\n",
    "df = df.dropna(thresh=len(df) - 5, axis=1)"
   ]
  },
  {
   "cell_type": "code",
   "execution_count": 10,
   "metadata": {},
   "outputs": [],
   "source": [
    "# Step 3c: Drop row with maximum sum\n",
    "max_sum_row_label = df.sum(axis=1).idxmax()\n",
    "df = df.drop(index=max_sum_row_label)"
   ]
  },
  {
   "cell_type": "code",
   "execution_count": null,
   "metadata": {},
   "outputs": [],
   "source": [
    "# Step 3d: Sort dataframe based on the first column\n",
    "df = df.sort_values(by='Column1')\n"
   ]
  },
  {
   "cell_type": "code",
   "execution_count": 12,
   "metadata": {},
   "outputs": [],
   "source": [
    "# Step 3e: Remove duplicates from the first column\n",
    "df = df.drop_duplicates(subset='Column1')\n"
   ]
  },
  {
   "cell_type": "code",
   "execution_count": null,
   "metadata": {},
   "outputs": [],
   "source": [
    "# Step 3f: Find correlation and covariance\n",
    "correlation = df['Column1'].corr(df['Column2'])\n",
    "covariance = df['Column2'].cov(df['Column3'])"
   ]
  },
  {
   "cell_type": "code",
   "execution_count": 14,
   "metadata": {},
   "outputs": [],
   "source": [
    "# Step 3g: Detect outliers and remove rows\n",
    "Q1 = df.quantile(0.25)\n",
    "Q3 = df.quantile(0.75)\n",
    "IQR = Q3 - Q1\n",
    "outliers = ((df < (Q1 - 1.5 * IQR)) | (df > (Q3 + 1.5 * IQR))).any(axis=1)\n",
    "df = df[~outliers]"
   ]
  },
  {
   "cell_type": "code",
   "execution_count": null,
   "metadata": {},
   "outputs": [],
   "source": [
    "# Step 3h: Discretize the second column into 5 bins\n",
    "df['Column2_bins'] = pd.qcut(df['Column2'], q=5)"
   ]
  },
  {
   "cell_type": "code",
   "execution_count": null,
   "metadata": {},
   "outputs": [],
   "source": [
    "# Displaying the final dataframe\n",
    "print(df)"
   ]
  }
 ],
 "metadata": {
  "kernelspec": {
   "display_name": "Python 3",
   "language": "python",
   "name": "python3"
  },
  "language_info": {
   "codemirror_mode": {
    "name": "ipython",
    "version": 3
   },
   "file_extension": ".py",
   "mimetype": "text/x-python",
   "name": "python",
   "nbconvert_exporter": "python",
   "pygments_lexer": "ipython3",
   "version": "3.11.5"
  }
 },
 "nbformat": 4,
 "nbformat_minor": 2
}
