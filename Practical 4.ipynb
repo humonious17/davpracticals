{
 "cells": [
  {
   "cell_type": "markdown",
   "metadata": {},
   "source": [
    "4. Consider two excel files having attendance of a workshop’s participants for two days. Each file has three\n",
    "fields ‘Name’, ‘Time of joining’, duration (in minutes) where names are unique within a file. Note that duration\n",
    "may take one of three values (30, 40, 50) only. Import the data into two dataframes and do the following:\n",
    "\n",
    "a. Perform merging of the two dataframes to find the names of students who had attended the\n",
    "workshop on both days.\n",
    "\n",
    "b. Find names of all students who have attended workshop on either of the days.\n",
    "\n",
    "c. Merge two data frames row-wise and find the total number of records in the data frame.\n",
    "\n",
    "d. Merge two data frames and use two columns names and duration as multi-row indexes. Generate\n",
    "descriptive statistics for this multi-index."
   ]
  },
  {
   "cell_type": "code",
   "execution_count": null,
   "metadata": {},
   "outputs": [],
   "source": [
    "df1 = pd.read_excel('day1.xlsx')\n",
    "df2 = pd.read_excel('day2.xlsx')\n",
    "print(df1)\n",
    "print(df2)"
   ]
  },
  {
   "cell_type": "code",
   "execution_count": null,
   "metadata": {},
   "outputs": [],
   "source": [
    "#PART A\n",
    "common_attendees = pd.merge(df1, df2, on=\"Name\", how='inner')\n",
    "print(common_attendees['Name'])"
   ]
  },
  {
   "cell_type": "code",
   "execution_count": null,
   "metadata": {},
   "outputs": [],
   "source": [
    "#PART B\n",
    "single_day_attendees = pd.merge(df1, df2, on='Name', how='outer')\n",
    "print(single_day_attendees['Name'])"
   ]
  },
  {
   "cell_type": "code",
   "execution_count": null,
   "metadata": {},
   "outputs": [],
   "source": [
    "#PART C\n",
    "merged_data_rw = pd.concat([df1, df2], ignore_index=True)\n",
    "merged_data_rw"
   ]
  },
  {
   "cell_type": "code",
   "execution_count": null,
   "metadata": {},
   "outputs": [],
   "source": [
    "#PART D\n",
    "merged_multi_index = pd.merge(df1, df2, on=['Name', 'Duration'], how='inner')\n",
    "multi_merge_stats = merged_multi_index.groupby(['Name', 'Duration']).describe()\n",
    "multi_merge_stats"
   ]
  }
 ],
 "metadata": {
  "language_info": {
   "name": "python"
  }
 },
 "nbformat": 4,
 "nbformat_minor": 2
}
