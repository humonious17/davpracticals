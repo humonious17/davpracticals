{
 "cells": [
  {
   "cell_type": "markdown",
   "metadata": {},
   "source": [
    "7. Consider a data frame containing data about students i.e. name, gender and passing division:\n",
    "Name Birth_Month Gender Pass_Division\n",
    "\n",
    "0 Mudit Chauhan December M III\n",
    "1 Seema Chopra January F II\n",
    "2 Rani Gupta March F I\n",
    "3 Aditya Narayan October M I\n",
    "4 Sanjeev Sahni February M II\n",
    "5 Prakash Kumar December M III\n",
    "6 Ritu Agarwal September F I\n",
    "7 Akshay Goel August M I\n",
    "8 Meeta Kulkarni July F II\n",
    "9 Preeti Ahuja November F II\n",
    "10 Sunil Das Gupta April M III\n",
    "11 Sonali Sapre January F I\n",
    "12 Rashmi Talwar June F III\n",
    "13 Ashish Dubey May M II\n",
    "14 Kiran Sharma February F II\n",
    "15 Sameer Bansal October M I\n",
    "\n",
    "a. Perform one hot encoding of the last two columns of categorical data using the get_dummies() function.\n",
    "\n",
    "b. Sort this data frame on the “Birth Month” column (i.e. January to December). Hint: Convert Month to\n",
    "Categorical"
   ]
  },
  {
   "cell_type": "code",
   "execution_count": null,
   "metadata": {},
   "outputs": [],
   "source": [
    "data = {\n",
    "    'Name': ['Mudit Chauhan', 'Seema Chopra', 'Rani Gupta', 'Aditya Narayan', 'Sanjeev Sahni',\n",
    "             'Prakash Kumar', 'Ritu Agarwal', 'Akshay Goel', 'Meeta Kulkarni', 'Preeti Ahuja',\n",
    "             'Sunil Das Gupta', 'Sonali Sapre', 'Rashmi Talwar', 'Ashish Dubey', 'Kiran Sharma',\n",
    "             'Sameer Bansal'],\n",
    "    'Birth_Month': ['December', 'January', 'March', 'October', 'February', 'December', 'September',\n",
    "                    'August', 'July', 'November', 'April', 'January', 'June', 'May', 'February', 'October'],\n",
    "    'Gender': ['M', 'F', 'F', 'M', 'M', 'M', 'F', 'M', 'F', 'F', 'M', 'F', 'F', 'M', 'F', 'M'],\n",
    "    'Pass_Division': ['III', 'II', 'I', 'I', 'II', 'III', 'I', 'I', 'II', 'II', 'III', 'I', 'III', 'II', 'II', 'I']\n",
    "}\n",
    "\n",
    "df = pd.DataFrame(data)\n",
    "df"
   ]
  },
  {
   "cell_type": "code",
   "execution_count": null,
   "metadata": {},
   "outputs": [],
   "source": [
    "#PART A\n",
    "df_encoded = pd.get_dummies(df, columns=['Gender','Pass_Division'])\n",
    "df_encoded"
   ]
  },
  {
   "cell_type": "code",
   "execution_count": null,
   "metadata": {},
   "outputs": [],
   "source": [
    "#PART B\n",
    "month_order=['January', 'February', 'March', 'April','May','June','July','August','September','October','November','December']\n",
    "df_encoded['Birth_Month'] = pd.Categorical(df_encoded['Birth_Month'], categories=month_order, ordered=True)\n",
    "df_sorted = df_encoded.sort_values('Birth_Month')\n",
    "df_sorted"
   ]
  }
 ],
 "metadata": {
  "kernelspec": {
   "display_name": "Python 3",
   "language": "python",
   "name": "python3"
  },
  "language_info": {
   "name": "python",
   "version": "3.11.5"
  }
 },
 "nbformat": 4,
 "nbformat_minor": 2
}
