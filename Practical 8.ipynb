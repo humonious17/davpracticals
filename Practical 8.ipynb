{
 "cells": [
  {
   "cell_type": "markdown",
   "metadata": {},
   "source": [
    "8. Consider the following data frame containing a family name, gender of the family member and her/his monthly\n",
    "income in each record.\n",
    "\n",
    "Name Gender MonthlyIncome (Rs.)\n",
    "Shah Male 114000.00\n",
    "Vats Male 65000.00\n",
    "Vats Female 43150.00\n",
    "Kumar Female 69500.00\n",
    "Vats Female 155000.00\n",
    "Kumar Male 103000.00\n",
    "Shah Male 55000.00\n",
    "Shah Female 112400.00\n",
    "Kumar Female 81030.00\n",
    "Vats Male 71900.00\n",
    "\n",
    "Write a program in Python using Pandas to perform the following:\n",
    "\n",
    "a. Calculate and display familywise gross monthly income.\n",
    "\n",
    "b. Calculate and display the member with the highest monthly income in a family.\n",
    "\n",
    "c. Calculate and display monthly income of all members with income greater than Rs. 60000.00.\n",
    "\n",
    "d. Calculate and display the average monthly income of the female members in the Shah family."
   ]
  },
  {
   "cell_type": "code",
   "execution_count": null,
   "metadata": {},
   "outputs": [],
   "source": [
    "#PART A\n",
    "familywise_gross_income = df.groupby('Name')['MonthlyIncome'].sum()\n",
    "familywise_gross_income"
   ]
  },
  {
   "cell_type": "code",
   "execution_count": null,
   "metadata": {},
   "outputs": [],
   "source": [
    "#PART B\n",
    "familywise_max_income = df.groupby(\"Name\")['MonthlyIncome'].max()\n",
    "familywise_max_income"
   ]
  },
  {
   "cell_type": "code",
   "execution_count": null,
   "metadata": {},
   "outputs": [],
   "source": [
    "#PART C\n",
    "df[df['MonthlyIncome']>60000.0]"
   ]
  },
  {
   "cell_type": "code",
   "execution_count": null,
   "metadata": {},
   "outputs": [],
   "source": [
    "#PART D\n",
    "shah_female_avg_income = df[(df['Name'] == 'Shah') & (df['Gender'] == 'Female')]['MonthlyIncome'].mean()\n",
    "shah_female_avg_income"
   ]
  }
 ],
 "metadata": {
  "kernelspec": {
   "display_name": "Python 3",
   "language": "python",
   "name": "python3"
  },
  "language_info": {
   "name": "python",
   "version": "3.11.5"
  }
 },
 "nbformat": 4,
 "nbformat_minor": 2
}
