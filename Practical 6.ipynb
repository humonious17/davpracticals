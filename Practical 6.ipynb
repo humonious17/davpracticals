{
 "cells": [
  {
   "cell_type": "markdown",
   "metadata": {},
   "source": [
    "6. Consider any sales training/ weather forecasting dataset\n",
    "\n",
    "a. Compute mean of a series grouped by another series\n",
    "\n",
    "b. Fill an intermittent time series to replace all missing dates with values of previous non-missing date.\n",
    "\n",
    "c. Perform appropriate year-month string to dates conversion.\n",
    "\n",
    "d. Split a dataset to group by two columns and then sort the aggregated results within the groups.\n",
    "\n",
    "e. Split a given dataframe into groups with bin counts."
   ]
  },
  {
   "cell_type": "code",
   "execution_count": null,
   "metadata": {},
   "outputs": [],
   "source": [
    "weather_rep = pd.read_csv('DailyDelhiClimateTest.csv')\n",
    "weather_rep\n",
    "#PART A\n",
    "mean_humidity_by_temperature = weather_rep.groupby('meantemp')['humidity'].mean()\n",
    "mean_humidity_by_temperature"
   ]
  },
  {
   "cell_type": "code",
   "execution_count": null,
   "metadata": {},
   "outputs": [],
   "source": [
    "#PART B\n",
    "df_weather_filled = weather_rep.set_index('date').asfreq('D', method='pad')\n",
    "print(\"DataFrame with Missing Dates Filled:\")\n",
    "print(df_weather_filled)"
   ]
  },
  {
   "cell_type": "code",
   "execution_count": null,
   "metadata": {},
   "outputs": [],
   "source": [
    "#PART C\n",
    "weather_rep['YearMonth'] = pd.to_datetime(weather_rep['date'], format=\"%d-%m-%Y\").dt.to_period('M')\n",
    "print(\"Converted Year-Month:\")\n",
    "print(weather_rep[['date', 'YearMonth']])"
   ]
  },
  {
   "cell_type": "code",
   "execution_count": null,
   "metadata": {},
   "outputs": [],
   "source": [
    "#PART D\n",
    "sorted_weather_by_pressure = weather_rep.groupby(['meanpressure', 'YearMonth']).agg({\n",
    "    'meantemp':'mean',\n",
    "    'humidity':'mean'\n",
    "}).reset_index()\n",
    "sorted_weather_by_pressure"
   ]
  },
  {
   "cell_type": "code",
   "execution_count": null,
   "metadata": {},
   "outputs": [],
   "source": [
    "#PART E\n",
    "temp_bins = [0, 15, 25, 35]\n",
    "weather_rep['TempBins'] = pd.cut(weather_rep['meantemp'], bins=temp_bins)\n",
    "groupby_bins = weather_rep.groupby('TempBins')\n",
    "print(groupby_bins.describe())"
   ]
  }
 ],
 "metadata": {
  "kernelspec": {
   "display_name": "Python 3",
   "language": "python",
   "name": "python3"
  },
  "language_info": {
   "name": "python",
   "version": "3.11.5"
  }
 },
 "nbformat": 4,
 "nbformat_minor": 2
}
