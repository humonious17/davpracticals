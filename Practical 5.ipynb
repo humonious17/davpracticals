{
 "cells": [
  {
   "cell_type": "markdown",
   "metadata": {},
   "source": [
    "5. Taking Iris data, plot the following with proper legend and axis labels: (Download IRIS data from:\n",
    "https://archive.ics.uci.edu/ml/datasets/iris or import it from sklearn.datasets)\n",
    "\n",
    "a. Plot bar chart to show the frequency of each class label in the data.\n",
    "\n",
    "b. Draw a scatter plot for Petal width vs sepal width.\n",
    "\n",
    "c. Plot density distribution for feature petal length.\n",
    "\n",
    "d. Use a pair plot to show pairwise bivariate distribution in the Iris Dataset."
   ]
  },
  {
   "cell_type": "code",
   "execution_count": null,
   "metadata": {},
   "outputs": [],
   "source": [
    "from ucimlrepo import fetch_ucirepo\n",
    "#FETCHING THE IRIS DATASET\n",
    "iris = fetch_ucirepo(id=53) \n",
    "iris_data = iris.data.original\n",
    "# data (as pandas dataframes) \n",
    "X = iris.data.features \n",
    "y = iris.data.targets \n",
    "print(X)\n",
    "print(y)"
   ]
  },
  {
   "cell_type": "code",
   "execution_count": null,
   "metadata": {},
   "outputs": [],
   "source": [
    "#PART A\n",
    "sns.countplot(x='class', data = y)\n",
    "plt.title('Frequency of Each Class Label in Iris Dataset')\n",
    "plt.xlabel('Class')\n",
    "plt.ylabel('Count')\n",
    "plt.show()"
   ]
  },
  {
   "cell_type": "code",
   "execution_count": null,
   "metadata": {},
   "outputs": [],
   "source": [
    "#PART B\n",
    "sns.scatterplot(x='petal width', y='sepal width', hue = y['class'],data=X)\n",
    "plt.title('Scatter Plot: Petal Width vs Sepal Width')\n",
    "plt.xlabel('Petal Width (cm)')\n",
    "plt.ylabel('Sepal Width (cm)')\n",
    "plt.show()"
   ]
  },
  {
   "cell_type": "code",
   "execution_count": null,
   "metadata": {},
   "outputs": [],
   "source": [
    "#PART C\n",
    "sns.kdeplot(X['petal length'], fill=True)\n",
    "plt.title('Density Distribution of Petal Length')\n",
    "plt.xlabel('Petal Length (cm)')\n",
    "plt.ylabel('Density')\n",
    "plt.show()"
   ]
  },
  {
   "cell_type": "code",
   "execution_count": null,
   "metadata": {},
   "outputs": [],
   "source": [
    "#PART D\n",
    "sns.pairplot(iris_data, hue ='class',palette='coolwarm')"
   ]
  },
  {
   "cell_type": "code",
   "execution_count": null,
   "metadata": {},
   "outputs": [],
   "source": []
  }
 ],
 "metadata": {
  "kernelspec": {
   "display_name": "Python 3",
   "language": "python",
   "name": "python3"
  },
  "language_info": {
   "codemirror_mode": {
    "name": "ipython",
    "version": 3
   },
   "file_extension": ".py",
   "mimetype": "text/x-python",
   "name": "python",
   "nbconvert_exporter": "python",
   "pygments_lexer": "ipython3",
   "version": "3.11.5"
  }
 },
 "nbformat": 4,
 "nbformat_minor": 2
}
