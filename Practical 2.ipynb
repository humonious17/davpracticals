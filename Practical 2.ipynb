{
 "cells": [
  {
   "cell_type": "markdown",
   "metadata": {},
   "source": [
    "*Write programs in Python using NumPy library to do the following:*\n",
    "\n",
    "a. Compute the mean, standard deviation, and variance of a two dimensional random integer array\n",
    "along the second axis.\n",
    "\n",
    "b. Get the indices of the sorted elements of a given array.\n",
    "    _B = [56, 48, 22, 41, 78, 91, 24, 46, 8, 33]_\n",
    "\n",
    "c. Create a 2-dimensional array of size m x n integer elements, also print the shape, type and data\n",
    "type of the array and then reshape it into nx m array, n and m are user inputs given at the run time.\n",
    "\n",
    "d. Test whether the elements of a given array are zero, non-zero and NaN. Record the indices of\n",
    "these elements in three separate arrays."
   ]
  },
  {
   "cell_type": "code",
   "execution_count": 1,
   "metadata": {},
   "outputs": [],
   "source": [
    "import numpy as np"
   ]
  },
  {
   "cell_type": "code",
   "execution_count": null,
   "metadata": {},
   "outputs": [],
   "source": [
    "random_array = np.random.randint(1, 100, size=(3, 4))\n",
    "print(random_array)"
   ]
  },
  {
   "cell_type": "markdown",
   "metadata": {},
   "source": [
    "a. Compute the mean, standard deviation, and variance of a two-dimensional random integer array along the second axis:"
   ]
  },
  {
   "cell_type": "code",
   "execution_count": 6,
   "metadata": {},
   "outputs": [],
   "source": [
    "mean_values = np.mean(random_array, axis=1)\n",
    "std_deviation_values = np.std(random_array, axis=1)\n",
    "variance_values = np.var(random_array, axis=1)"
   ]
  },
  {
   "cell_type": "code",
   "execution_count": null,
   "metadata": {},
   "outputs": [],
   "source": [
    "print(mean_values)\n",
    "print(std_deviation_values)\n",
    "print(variance_values)"
   ]
  },
  {
   "cell_type": "markdown",
   "metadata": {},
   "source": [
    "b. Get the indices of the sorted elements of a given array:"
   ]
  },
  {
   "cell_type": "code",
   "execution_count": null,
   "metadata": {},
   "outputs": [],
   "source": [
    "B = np.array([56, 48, 22, 41, 78, 91, 24, 46, 8, 33])\n",
    "\n",
    "# Get the indices of the sorted elements\n",
    "sorted_indices = np.argsort(B)\n",
    "\n",
    "print(\"Original Array:\", B)\n",
    "print(\"Indices of the sorted elements:\", sorted_indices)"
   ]
  },
  {
   "cell_type": "markdown",
   "metadata": {},
   "source": [
    "c. Create a 2-dimensional array of size m x n integer elements, print the shape, type, and data type of the array, then reshape it into an nxm array:"
   ]
  },
  {
   "cell_type": "code",
   "execution_count": null,
   "metadata": {},
   "outputs": [],
   "source": [
    "array2d = np.random.randint(1, 50, size=(4, 5))\n",
    "print(array2d)"
   ]
  },
  {
   "cell_type": "code",
   "execution_count": null,
   "metadata": {},
   "outputs": [],
   "source": [
    "print(np.shape(array2d))        #shape of array\n",
    "print(type(array2d))            #type of array\n",
    "print(array2d.dtype)            #data type of array"
   ]
  },
  {
   "cell_type": "code",
   "execution_count": 22,
   "metadata": {},
   "outputs": [],
   "source": [
    "reshaped_array = array2d.reshape(5, 4)"
   ]
  },
  {
   "cell_type": "code",
   "execution_count": null,
   "metadata": {},
   "outputs": [],
   "source": [
    "print(array2d)"
   ]
  },
  {
   "cell_type": "markdown",
   "metadata": {},
   "source": [
    "d. Test whether the elements of a given array are zero, non-zero, and NaN. Record the indices of these elements in three separate arrays:"
   ]
  },
  {
   "cell_type": "code",
   "execution_count": 25,
   "metadata": {},
   "outputs": [],
   "source": [
    "sample_array = np.array([1.0, 0.0, 3.5, np.nan, 0.0, 8.2, np.nan])\n",
    "# Test conditions and record indices\n",
    "zero_indices = np.where(sample_array == 0)[0]\n",
    "non_zero_indices = np.where(sample_array != 0)[0]\n",
    "nan_indices = np.where(np.isnan(sample_array))[0]"
   ]
  },
  {
   "cell_type": "code",
   "execution_count": 26,
   "metadata": {},
   "outputs": [
    {
     "name": "stdout",
     "output_type": "stream",
     "text": [
      "Original Array: [1.  0.  3.5 nan 0.  8.2 nan]\n",
      "Indices of zero elements: [1 4]\n",
      "Indices of non-zero elements: [0 2 3 5 6]\n",
      "Indices of NaN elements: [3 6]\n"
     ]
    }
   ],
   "source": [
    "print(\"Original Array:\", sample_array)\n",
    "print(\"Indices of zero elements:\", zero_indices)\n",
    "print(\"Indices of non-zero elements:\", non_zero_indices)\n",
    "print(\"Indices of NaN elements:\", nan_indices)"
   ]
  }
 ],
 "metadata": {
  "kernelspec": {
   "display_name": "Python 3",
   "language": "python",
   "name": "python3"
  },
  "language_info": {
   "codemirror_mode": {
    "name": "ipython",
    "version": 3
   },
   "file_extension": ".py",
   "mimetype": "text/x-python",
   "name": "python",
   "nbconvert_exporter": "python",
   "pygments_lexer": "ipython3",
   "version": "3.11.5"
  }
 },
 "nbformat": 4,
 "nbformat_minor": 2
}
